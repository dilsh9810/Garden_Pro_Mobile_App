{
  "nbformat": 4,
  "nbformat_minor": 0,
  "metadata": {
    "colab": {
      "name": "Crop_Prediction.ipynb",
      "provenance": [],
      "collapsed_sections": [],
      "authorship_tag": "ABX9TyPFhZtHDrrA9sKdm0gJijB5",
      "include_colab_link": true
    },
    "kernelspec": {
      "name": "python3",
      "display_name": "Python 3"
    },
    "language_info": {
      "name": "python"
    }
  },
  "cells": [
    {
      "cell_type": "markdown",
      "metadata": {
        "id": "view-in-github",
        "colab_type": "text"
      },
      "source": [
        "<a href=\"https://colab.research.google.com/github/dilsh9810/Garden_Pro_Mobile_App/blob/AI-Model/Crop_Prediction.ipynb\" target=\"_parent\"><img src=\"https://colab.research.google.com/assets/colab-badge.svg\" alt=\"Open In Colab\"/></a>"
      ]
    },
    {
      "cell_type": "markdown",
      "source": [
        "**DECISION TREE** **CLASSIFIER** **MODEL**"
      ],
      "metadata": {
        "id": "kSQF7_xr6Pkf"
      }
    },
    {
      "cell_type": "code",
      "execution_count": 11,
      "metadata": {
        "id": "Q3SdbtuCrzbB"
      },
      "outputs": [],
      "source": [
        "#import libraries related to machine learning\n",
        "\n",
        "import pandas as pd\n",
        "import numpy as np\n",
        "import matplotlib.pyplot as plt\n",
        "from sklearn.tree import DecisionTreeClassifier\n",
        "from sklearn.model_selection import train_test_split\n"
      ]
    },
    {
      "cell_type": "code",
      "source": [
        "df = pd.read_csv(\"Gardening Crops.csv\")"
      ],
      "metadata": {
        "id": "faPfjJCjr9D5"
      },
      "execution_count": 2,
      "outputs": []
    },
    {
      "cell_type": "code",
      "source": [
        "x = df.iloc[:,:].values\n",
        "z = pd.DataFrame(x)"
      ],
      "metadata": {
        "id": "kblLa5busDJr"
      },
      "execution_count": 3,
      "outputs": []
    },
    {
      "cell_type": "markdown",
      "source": [
        ""
      ],
      "metadata": {
        "id": "Owyt2gkD6JC6"
      }
    },
    {
      "cell_type": "code",
      "source": [
        "#Convert categorical data into numerical data\n",
        "\n",
        "from sklearn.preprocessing import LabelEncoder, OneHotEncoder\n",
        "\n",
        "labelencoder_x = LabelEncoder()\n",
        "\n",
        "x[:,1] = labelencoder_x.fit_transform(x[:,1])\n",
        "\n",
        "z = pd.DataFrame(x)\n"
      ],
      "metadata": {
        "id": "X3LToN0NsDYq"
      },
      "execution_count": 4,
      "outputs": []
    },
    {
      "cell_type": "code",
      "source": [
        "from sklearn.preprocessing import LabelEncoder, OneHotEncoder\n",
        "\n",
        "labelencoder_x = LabelEncoder()\n",
        "\n",
        "x[:,3] = labelencoder_x.fit_transform(x[:,3])\n",
        "\n",
        "z = pd.DataFrame(x)\n"
      ],
      "metadata": {
        "id": "hcm3CsDWsDdc"
      },
      "execution_count": 5,
      "outputs": []
    },
    {
      "cell_type": "code",
      "source": [
        "from sklearn.preprocessing import LabelEncoder, OneHotEncoder\n",
        "\n",
        "labelencoder_x = LabelEncoder()\n",
        "\n",
        "x[:,4] = labelencoder_x.fit_transform(x[:,4])\n",
        "\n",
        "z = pd.DataFrame(x)"
      ],
      "metadata": {
        "id": "4kuPjTXosDg5"
      },
      "execution_count": 6,
      "outputs": []
    },
    {
      "cell_type": "code",
      "source": [
        "z.head()"
      ],
      "metadata": {
        "colab": {
          "base_uri": "https://localhost:8080/",
          "height": 206
        },
        "id": "eHmMskAZsDkI",
        "outputId": "06b00039-d1cb-4dfa-b6f3-585d20b03b37"
      },
      "execution_count": null,
      "outputs": [
        {
          "output_type": "execute_result",
          "data": {
            "text/html": [
              "\n",
              "  <div id=\"df-2f249b49-94c4-4f9e-8a24-d7e234ddd3d6\">\n",
              "    <div class=\"colab-df-container\">\n",
              "      <div>\n",
              "<style scoped>\n",
              "    .dataframe tbody tr th:only-of-type {\n",
              "        vertical-align: middle;\n",
              "    }\n",
              "\n",
              "    .dataframe tbody tr th {\n",
              "        vertical-align: top;\n",
              "    }\n",
              "\n",
              "    .dataframe thead th {\n",
              "        text-align: right;\n",
              "    }\n",
              "</style>\n",
              "<table border=\"1\" class=\"dataframe\">\n",
              "  <thead>\n",
              "    <tr style=\"text-align: right;\">\n",
              "      <th></th>\n",
              "      <th>0</th>\n",
              "      <th>1</th>\n",
              "      <th>2</th>\n",
              "      <th>3</th>\n",
              "      <th>4</th>\n",
              "      <th>5</th>\n",
              "      <th>6</th>\n",
              "    </tr>\n",
              "  </thead>\n",
              "  <tbody>\n",
              "    <tr>\n",
              "      <th>0</th>\n",
              "      <td>31.1234</td>\n",
              "      <td>0</td>\n",
              "      <td>6.5</td>\n",
              "      <td>30</td>\n",
              "      <td>0</td>\n",
              "      <td>0.025</td>\n",
              "      <td>Raddish</td>\n",
              "    </tr>\n",
              "    <tr>\n",
              "      <th>1</th>\n",
              "      <td>31.0239</td>\n",
              "      <td>1</td>\n",
              "      <td>6</td>\n",
              "      <td>30</td>\n",
              "      <td>0</td>\n",
              "      <td>0.026</td>\n",
              "      <td>Raddish</td>\n",
              "    </tr>\n",
              "    <tr>\n",
              "      <th>2</th>\n",
              "      <td>29.0756</td>\n",
              "      <td>2</td>\n",
              "      <td>7</td>\n",
              "      <td>27</td>\n",
              "      <td>2</td>\n",
              "      <td>0.027</td>\n",
              "      <td>Raddish</td>\n",
              "    </tr>\n",
              "    <tr>\n",
              "      <th>3</th>\n",
              "      <td>31.0761</td>\n",
              "      <td>0</td>\n",
              "      <td>7.5</td>\n",
              "      <td>30</td>\n",
              "      <td>0</td>\n",
              "      <td>0.028</td>\n",
              "      <td>Raddish</td>\n",
              "    </tr>\n",
              "    <tr>\n",
              "      <th>4</th>\n",
              "      <td>31.1654</td>\n",
              "      <td>0</td>\n",
              "      <td>6.8</td>\n",
              "      <td>30</td>\n",
              "      <td>0</td>\n",
              "      <td>0.029</td>\n",
              "      <td>Raddish</td>\n",
              "    </tr>\n",
              "  </tbody>\n",
              "</table>\n",
              "</div>\n",
              "      <button class=\"colab-df-convert\" onclick=\"convertToInteractive('df-2f249b49-94c4-4f9e-8a24-d7e234ddd3d6')\"\n",
              "              title=\"Convert this dataframe to an interactive table.\"\n",
              "              style=\"display:none;\">\n",
              "        \n",
              "  <svg xmlns=\"http://www.w3.org/2000/svg\" height=\"24px\"viewBox=\"0 0 24 24\"\n",
              "       width=\"24px\">\n",
              "    <path d=\"M0 0h24v24H0V0z\" fill=\"none\"/>\n",
              "    <path d=\"M18.56 5.44l.94 2.06.94-2.06 2.06-.94-2.06-.94-.94-2.06-.94 2.06-2.06.94zm-11 1L8.5 8.5l.94-2.06 2.06-.94-2.06-.94L8.5 2.5l-.94 2.06-2.06.94zm10 10l.94 2.06.94-2.06 2.06-.94-2.06-.94-.94-2.06-.94 2.06-2.06.94z\"/><path d=\"M17.41 7.96l-1.37-1.37c-.4-.4-.92-.59-1.43-.59-.52 0-1.04.2-1.43.59L10.3 9.45l-7.72 7.72c-.78.78-.78 2.05 0 2.83L4 21.41c.39.39.9.59 1.41.59.51 0 1.02-.2 1.41-.59l7.78-7.78 2.81-2.81c.8-.78.8-2.07 0-2.86zM5.41 20L4 18.59l7.72-7.72 1.47 1.35L5.41 20z\"/>\n",
              "  </svg>\n",
              "      </button>\n",
              "      \n",
              "  <style>\n",
              "    .colab-df-container {\n",
              "      display:flex;\n",
              "      flex-wrap:wrap;\n",
              "      gap: 12px;\n",
              "    }\n",
              "\n",
              "    .colab-df-convert {\n",
              "      background-color: #E8F0FE;\n",
              "      border: none;\n",
              "      border-radius: 50%;\n",
              "      cursor: pointer;\n",
              "      display: none;\n",
              "      fill: #1967D2;\n",
              "      height: 32px;\n",
              "      padding: 0 0 0 0;\n",
              "      width: 32px;\n",
              "    }\n",
              "\n",
              "    .colab-df-convert:hover {\n",
              "      background-color: #E2EBFA;\n",
              "      box-shadow: 0px 1px 2px rgba(60, 64, 67, 0.3), 0px 1px 3px 1px rgba(60, 64, 67, 0.15);\n",
              "      fill: #174EA6;\n",
              "    }\n",
              "\n",
              "    [theme=dark] .colab-df-convert {\n",
              "      background-color: #3B4455;\n",
              "      fill: #D2E3FC;\n",
              "    }\n",
              "\n",
              "    [theme=dark] .colab-df-convert:hover {\n",
              "      background-color: #434B5C;\n",
              "      box-shadow: 0px 1px 3px 1px rgba(0, 0, 0, 0.15);\n",
              "      filter: drop-shadow(0px 1px 2px rgba(0, 0, 0, 0.3));\n",
              "      fill: #FFFFFF;\n",
              "    }\n",
              "  </style>\n",
              "\n",
              "      <script>\n",
              "        const buttonEl =\n",
              "          document.querySelector('#df-2f249b49-94c4-4f9e-8a24-d7e234ddd3d6 button.colab-df-convert');\n",
              "        buttonEl.style.display =\n",
              "          google.colab.kernel.accessAllowed ? 'block' : 'none';\n",
              "\n",
              "        async function convertToInteractive(key) {\n",
              "          const element = document.querySelector('#df-2f249b49-94c4-4f9e-8a24-d7e234ddd3d6');\n",
              "          const dataTable =\n",
              "            await google.colab.kernel.invokeFunction('convertToInteractive',\n",
              "                                                     [key], {});\n",
              "          if (!dataTable) return;\n",
              "\n",
              "          const docLinkHtml = 'Like what you see? Visit the ' +\n",
              "            '<a target=\"_blank\" href=https://colab.research.google.com/notebooks/data_table.ipynb>data table notebook</a>'\n",
              "            + ' to learn more about interactive tables.';\n",
              "          element.innerHTML = '';\n",
              "          dataTable['output_type'] = 'display_data';\n",
              "          await google.colab.output.renderOutput(dataTable, element);\n",
              "          const docLink = document.createElement('div');\n",
              "          docLink.innerHTML = docLinkHtml;\n",
              "          element.appendChild(docLink);\n",
              "        }\n",
              "      </script>\n",
              "    </div>\n",
              "  </div>\n",
              "  "
            ],
            "text/plain": [
              "         0  1    2   3  4      5        6\n",
              "0  31.1234  0  6.5  30  0  0.025  Raddish\n",
              "1  31.0239  1    6  30  0  0.026  Raddish\n",
              "2  29.0756  2    7  27  2  0.027  Raddish\n",
              "3  31.0761  0  7.5  30  0  0.028  Raddish\n",
              "4  31.1654  0  6.8  30  0  0.029  Raddish"
            ]
          },
          "metadata": {},
          "execution_count": 7
        }
      ]
    },
    {
      "cell_type": "code",
      "source": [
        "#split the modified dataset into the target variable\n",
        "y = z.iloc[:,-1]"
      ],
      "metadata": {
        "id": "YAOeOENZsDnN"
      },
      "execution_count": 7,
      "outputs": []
    },
    {
      "cell_type": "code",
      "source": [
        "x = z.iloc[:,0:6]"
      ],
      "metadata": {
        "id": "SiKIOenjsDo5"
      },
      "execution_count": 8,
      "outputs": []
    },
    {
      "cell_type": "code",
      "source": [
        ""
      ],
      "metadata": {
        "id": "9AuoEJPFsf3X"
      },
      "execution_count": 8,
      "outputs": []
    },
    {
      "cell_type": "code",
      "source": [
        "#Build a decisionTree Model\n",
        "\n",
        "x_train,x_test,y_train,y_test = train_test_split(x,y, test_size=0.2, random_state=1)"
      ],
      "metadata": {
        "id": "Q19PjCU_RnQm"
      },
      "execution_count": 31,
      "outputs": []
    },
    {
      "cell_type": "code",
      "source": [
        "print(x_train)\n",
        "print(y_train)\n",
        "print(y_test)"
      ],
      "metadata": {
        "colab": {
          "base_uri": "https://localhost:8080/"
        },
        "id": "X5iKUK85sgB6",
        "outputId": "adeb82c5-a69d-4781-bc48-92ee83558007"
      },
      "execution_count": 32,
      "outputs": [
        {
          "output_type": "stream",
          "name": "stdout",
          "text": [
            "[[32.1562081 0 8.8 ... 'High' 12.0 'Rampe']\n",
            " [33.2779721 0 7.0 ... 'High' 201.0 'Papaya']\n",
            " [35.277187100000006 0 10.5 ... 'High' 3.54 'Okra']\n",
            " ...\n",
            " [33.0132398 0 7.5 ... 'Moderate' 32.0 'Guava']\n",
            " [30.217336699999997 0 6.5 ... 'High' 102.0 'Rambutan']\n",
            " [29.371772399999998 0 6.0 ... 'Moderate' 0.0425 'Beans']]\n",
            "170           Rampe\n",
            "159          Papaya\n",
            "181            Okra\n",
            "147    Mangoostenes\n",
            "150         Avacado\n",
            "           ...     \n",
            "137         Cassava\n",
            "72           Chilli\n",
            "140           Guava\n",
            "235        Rambutan\n",
            "37            Beans\n",
            "Name: 6, Length: 198, dtype: object\n",
            "67       Winged  Beans\n",
            "247             Carrot\n",
            "210             Kohila\n",
            "224             Orange\n",
            "90            Gotukola\n",
            "222               Lime\n",
            "58       Ridged Gouard\n",
            "127           Brinjals\n",
            "179               Okra\n",
            "4              Raddish\n",
            "78              Kankun\n",
            "85         Mukunuwenna\n",
            "95        Sweet Potato\n",
            "112             Ginger\n",
            "174           Cinnamon\n",
            "160             Papaya\n",
            "183             Pepper\n",
            "51        Snake Gouard\n",
            "27            Cucumber\n",
            "73              Chilli\n",
            "223             Orange\n",
            "34             Pumpkin\n",
            "117     Kathurumurunga\n",
            "185             Pepper\n",
            "119     Kathurumurunga\n",
            "118     Kathurumurunga\n",
            "244             Carrot\n",
            "123           Brinjals\n",
            "38               Beans\n",
            "214    Thumba Karawila\n",
            "206           Ela batu\n",
            "44              Squash\n",
            "62       Winged  Beans\n",
            "207           Ela batu\n",
            "102            Spinach\n",
            "138              Guava\n",
            "39               Beans\n",
            "31             Pumpkin\n",
            "18              Tomato\n",
            "241         Pani Dodam\n",
            "120     Kathurumurunga\n",
            "19              Tomato\n",
            "187             Pepper\n",
            "230         Star Fruit\n",
            "33             Pumpkin\n",
            "91            Gotukola\n",
            "35             Pumpkin\n",
            "11        Bitter Guard\n",
            "29            Cucumber\n",
            "0              Raddish\n",
            "Name: 6, dtype: object\n"
          ]
        }
      ]
    },
    {
      "cell_type": "code",
      "source": [
        "#Build a decisionTreeClassifier object\n",
        "\n",
        "dtclf = DecisionTreeClassifier()\n",
        "\n",
        "#Train a decisionTree Model\n",
        "\n",
        "dtclf.fit(x_train,y_train)\n",
        "\n",
        "y_predict = dtclf.predict(x_test)\n",
        "\n",
        "print(y_predict)\n"
      ],
      "metadata": {
        "colab": {
          "base_uri": "https://localhost:8080/",
          "height": 380
        },
        "id": "UuC67s3CsgOi",
        "outputId": "bdd74623-309c-4c5a-b522-594c23c5cfc4"
      },
      "execution_count": 33,
      "outputs": [
        {
          "output_type": "error",
          "ename": "ValueError",
          "evalue": "ignored",
          "traceback": [
            "\u001b[0;31m---------------------------------------------------------------------------\u001b[0m",
            "\u001b[0;31mValueError\u001b[0m                                Traceback (most recent call last)",
            "\u001b[0;32m<ipython-input-33-405f1f6f688c>\u001b[0m in \u001b[0;36m<module>\u001b[0;34m()\u001b[0m\n\u001b[1;32m      5\u001b[0m \u001b[0;31m#Train a decisionTree Model\u001b[0m\u001b[0;34m\u001b[0m\u001b[0;34m\u001b[0m\u001b[0;34m\u001b[0m\u001b[0m\n\u001b[1;32m      6\u001b[0m \u001b[0;34m\u001b[0m\u001b[0m\n\u001b[0;32m----> 7\u001b[0;31m \u001b[0mdtclf\u001b[0m\u001b[0;34m.\u001b[0m\u001b[0mfit\u001b[0m\u001b[0;34m(\u001b[0m\u001b[0mx_train\u001b[0m\u001b[0;34m,\u001b[0m\u001b[0my_train\u001b[0m\u001b[0;34m)\u001b[0m\u001b[0;34m\u001b[0m\u001b[0;34m\u001b[0m\u001b[0m\n\u001b[0m\u001b[1;32m      8\u001b[0m \u001b[0;34m\u001b[0m\u001b[0m\n\u001b[1;32m      9\u001b[0m \u001b[0my_predict\u001b[0m \u001b[0;34m=\u001b[0m \u001b[0mdtclf\u001b[0m\u001b[0;34m.\u001b[0m\u001b[0mpredict\u001b[0m\u001b[0;34m(\u001b[0m\u001b[0mx_test\u001b[0m\u001b[0;34m)\u001b[0m\u001b[0;34m\u001b[0m\u001b[0;34m\u001b[0m\u001b[0m\n",
            "\u001b[0;32m/usr/local/lib/python3.7/dist-packages/sklearn/tree/_classes.py\u001b[0m in \u001b[0;36mfit\u001b[0;34m(self, X, y, sample_weight, check_input, X_idx_sorted)\u001b[0m\n\u001b[1;32m    940\u001b[0m             \u001b[0msample_weight\u001b[0m\u001b[0;34m=\u001b[0m\u001b[0msample_weight\u001b[0m\u001b[0;34m,\u001b[0m\u001b[0;34m\u001b[0m\u001b[0;34m\u001b[0m\u001b[0m\n\u001b[1;32m    941\u001b[0m             \u001b[0mcheck_input\u001b[0m\u001b[0;34m=\u001b[0m\u001b[0mcheck_input\u001b[0m\u001b[0;34m,\u001b[0m\u001b[0;34m\u001b[0m\u001b[0;34m\u001b[0m\u001b[0m\n\u001b[0;32m--> 942\u001b[0;31m             \u001b[0mX_idx_sorted\u001b[0m\u001b[0;34m=\u001b[0m\u001b[0mX_idx_sorted\u001b[0m\u001b[0;34m,\u001b[0m\u001b[0;34m\u001b[0m\u001b[0;34m\u001b[0m\u001b[0m\n\u001b[0m\u001b[1;32m    943\u001b[0m         )\n\u001b[1;32m    944\u001b[0m         \u001b[0;32mreturn\u001b[0m \u001b[0mself\u001b[0m\u001b[0;34m\u001b[0m\u001b[0;34m\u001b[0m\u001b[0m\n",
            "\u001b[0;32m/usr/local/lib/python3.7/dist-packages/sklearn/tree/_classes.py\u001b[0m in \u001b[0;36mfit\u001b[0;34m(self, X, y, sample_weight, check_input, X_idx_sorted)\u001b[0m\n\u001b[1;32m    164\u001b[0m             \u001b[0mcheck_y_params\u001b[0m \u001b[0;34m=\u001b[0m \u001b[0mdict\u001b[0m\u001b[0;34m(\u001b[0m\u001b[0mensure_2d\u001b[0m\u001b[0;34m=\u001b[0m\u001b[0;32mFalse\u001b[0m\u001b[0;34m,\u001b[0m \u001b[0mdtype\u001b[0m\u001b[0;34m=\u001b[0m\u001b[0;32mNone\u001b[0m\u001b[0;34m)\u001b[0m\u001b[0;34m\u001b[0m\u001b[0;34m\u001b[0m\u001b[0m\n\u001b[1;32m    165\u001b[0m             X, y = self._validate_data(\n\u001b[0;32m--> 166\u001b[0;31m                 \u001b[0mX\u001b[0m\u001b[0;34m,\u001b[0m \u001b[0my\u001b[0m\u001b[0;34m,\u001b[0m \u001b[0mvalidate_separately\u001b[0m\u001b[0;34m=\u001b[0m\u001b[0;34m(\u001b[0m\u001b[0mcheck_X_params\u001b[0m\u001b[0;34m,\u001b[0m \u001b[0mcheck_y_params\u001b[0m\u001b[0;34m)\u001b[0m\u001b[0;34m\u001b[0m\u001b[0;34m\u001b[0m\u001b[0m\n\u001b[0m\u001b[1;32m    167\u001b[0m             )\n\u001b[1;32m    168\u001b[0m             \u001b[0;32mif\u001b[0m \u001b[0missparse\u001b[0m\u001b[0;34m(\u001b[0m\u001b[0mX\u001b[0m\u001b[0;34m)\u001b[0m\u001b[0;34m:\u001b[0m\u001b[0;34m\u001b[0m\u001b[0;34m\u001b[0m\u001b[0m\n",
            "\u001b[0;32m/usr/local/lib/python3.7/dist-packages/sklearn/base.py\u001b[0m in \u001b[0;36m_validate_data\u001b[0;34m(self, X, y, reset, validate_separately, **check_params)\u001b[0m\n\u001b[1;32m    571\u001b[0m                 \u001b[0;31m# :(\u001b[0m\u001b[0;34m\u001b[0m\u001b[0;34m\u001b[0m\u001b[0;34m\u001b[0m\u001b[0m\n\u001b[1;32m    572\u001b[0m                 \u001b[0mcheck_X_params\u001b[0m\u001b[0;34m,\u001b[0m \u001b[0mcheck_y_params\u001b[0m \u001b[0;34m=\u001b[0m \u001b[0mvalidate_separately\u001b[0m\u001b[0;34m\u001b[0m\u001b[0;34m\u001b[0m\u001b[0m\n\u001b[0;32m--> 573\u001b[0;31m                 \u001b[0mX\u001b[0m \u001b[0;34m=\u001b[0m \u001b[0mcheck_array\u001b[0m\u001b[0;34m(\u001b[0m\u001b[0mX\u001b[0m\u001b[0;34m,\u001b[0m \u001b[0;34m**\u001b[0m\u001b[0mcheck_X_params\u001b[0m\u001b[0;34m)\u001b[0m\u001b[0;34m\u001b[0m\u001b[0;34m\u001b[0m\u001b[0m\n\u001b[0m\u001b[1;32m    574\u001b[0m                 \u001b[0my\u001b[0m \u001b[0;34m=\u001b[0m \u001b[0mcheck_array\u001b[0m\u001b[0;34m(\u001b[0m\u001b[0my\u001b[0m\u001b[0;34m,\u001b[0m \u001b[0;34m**\u001b[0m\u001b[0mcheck_y_params\u001b[0m\u001b[0;34m)\u001b[0m\u001b[0;34m\u001b[0m\u001b[0;34m\u001b[0m\u001b[0m\n\u001b[1;32m    575\u001b[0m             \u001b[0;32melse\u001b[0m\u001b[0;34m:\u001b[0m\u001b[0;34m\u001b[0m\u001b[0;34m\u001b[0m\u001b[0m\n",
            "\u001b[0;32m/usr/local/lib/python3.7/dist-packages/sklearn/utils/validation.py\u001b[0m in \u001b[0;36mcheck_array\u001b[0;34m(array, accept_sparse, accept_large_sparse, dtype, order, copy, force_all_finite, ensure_2d, allow_nd, ensure_min_samples, ensure_min_features, estimator)\u001b[0m\n\u001b[1;32m    736\u001b[0m                     \u001b[0marray\u001b[0m \u001b[0;34m=\u001b[0m \u001b[0marray\u001b[0m\u001b[0;34m.\u001b[0m\u001b[0mastype\u001b[0m\u001b[0;34m(\u001b[0m\u001b[0mdtype\u001b[0m\u001b[0;34m,\u001b[0m \u001b[0mcasting\u001b[0m\u001b[0;34m=\u001b[0m\u001b[0;34m\"unsafe\"\u001b[0m\u001b[0;34m,\u001b[0m \u001b[0mcopy\u001b[0m\u001b[0;34m=\u001b[0m\u001b[0;32mFalse\u001b[0m\u001b[0;34m)\u001b[0m\u001b[0;34m\u001b[0m\u001b[0;34m\u001b[0m\u001b[0m\n\u001b[1;32m    737\u001b[0m                 \u001b[0;32melse\u001b[0m\u001b[0;34m:\u001b[0m\u001b[0;34m\u001b[0m\u001b[0;34m\u001b[0m\u001b[0m\n\u001b[0;32m--> 738\u001b[0;31m                     \u001b[0marray\u001b[0m \u001b[0;34m=\u001b[0m \u001b[0mnp\u001b[0m\u001b[0;34m.\u001b[0m\u001b[0masarray\u001b[0m\u001b[0;34m(\u001b[0m\u001b[0marray\u001b[0m\u001b[0;34m,\u001b[0m \u001b[0morder\u001b[0m\u001b[0;34m=\u001b[0m\u001b[0morder\u001b[0m\u001b[0;34m,\u001b[0m \u001b[0mdtype\u001b[0m\u001b[0;34m=\u001b[0m\u001b[0mdtype\u001b[0m\u001b[0;34m)\u001b[0m\u001b[0;34m\u001b[0m\u001b[0;34m\u001b[0m\u001b[0m\n\u001b[0m\u001b[1;32m    739\u001b[0m             \u001b[0;32mexcept\u001b[0m \u001b[0mComplexWarning\u001b[0m \u001b[0;32mas\u001b[0m \u001b[0mcomplex_warning\u001b[0m\u001b[0;34m:\u001b[0m\u001b[0;34m\u001b[0m\u001b[0;34m\u001b[0m\u001b[0m\n\u001b[1;32m    740\u001b[0m                 raise ValueError(\n",
            "\u001b[0;32m/usr/local/lib/python3.7/dist-packages/numpy/core/_asarray.py\u001b[0m in \u001b[0;36masarray\u001b[0;34m(a, dtype, order)\u001b[0m\n\u001b[1;32m     81\u001b[0m \u001b[0;34m\u001b[0m\u001b[0m\n\u001b[1;32m     82\u001b[0m     \"\"\"\n\u001b[0;32m---> 83\u001b[0;31m     \u001b[0;32mreturn\u001b[0m \u001b[0marray\u001b[0m\u001b[0;34m(\u001b[0m\u001b[0ma\u001b[0m\u001b[0;34m,\u001b[0m \u001b[0mdtype\u001b[0m\u001b[0;34m,\u001b[0m \u001b[0mcopy\u001b[0m\u001b[0;34m=\u001b[0m\u001b[0;32mFalse\u001b[0m\u001b[0;34m,\u001b[0m \u001b[0morder\u001b[0m\u001b[0;34m=\u001b[0m\u001b[0morder\u001b[0m\u001b[0;34m)\u001b[0m\u001b[0;34m\u001b[0m\u001b[0;34m\u001b[0m\u001b[0m\n\u001b[0m\u001b[1;32m     84\u001b[0m \u001b[0;34m\u001b[0m\u001b[0m\n\u001b[1;32m     85\u001b[0m \u001b[0;34m\u001b[0m\u001b[0m\n",
            "\u001b[0;31mValueError\u001b[0m: could not convert string to float: 'Well drained Loamy Soil'"
          ]
        }
      ]
    },
    {
      "cell_type": "markdown",
      "source": [
        "**Naive Bayes Classifier Algorithm**"
      ],
      "metadata": {
        "id": "y5LvrwGO6xMB"
      }
    },
    {
      "cell_type": "code",
      "source": [
        "df = pd.read_csv(\"Gardening Crops.csv\")"
      ],
      "metadata": {
        "id": "LfRc6x7e7I_R"
      },
      "execution_count": 13,
      "outputs": []
    },
    {
      "cell_type": "code",
      "source": [
        "df.head()"
      ],
      "metadata": {
        "colab": {
          "base_uri": "https://localhost:8080/",
          "height": 206
        },
        "id": "YxW1pgQY8JEB",
        "outputId": "be30cc8e-7c86-47d7-ecfa-09d39219d08e"
      },
      "execution_count": 14,
      "outputs": [
        {
          "output_type": "execute_result",
          "data": {
            "text/html": [
              "\n",
              "  <div id=\"df-44d402a0-9e1a-439a-bb58-ca401a6751ed\">\n",
              "    <div class=\"colab-df-container\">\n",
              "      <div>\n",
              "<style scoped>\n",
              "    .dataframe tbody tr th:only-of-type {\n",
              "        vertical-align: middle;\n",
              "    }\n",
              "\n",
              "    .dataframe tbody tr th {\n",
              "        vertical-align: top;\n",
              "    }\n",
              "\n",
              "    .dataframe thead th {\n",
              "        text-align: right;\n",
              "    }\n",
              "</style>\n",
              "<table border=\"1\" class=\"dataframe\">\n",
              "  <thead>\n",
              "    <tr style=\"text-align: right;\">\n",
              "      <th></th>\n",
              "      <th>Temperature</th>\n",
              "      <th>Sunlight</th>\n",
              "      <th>PH</th>\n",
              "      <th>Soil</th>\n",
              "      <th>Water level</th>\n",
              "      <th>Space (m2)</th>\n",
              "      <th>Label</th>\n",
              "    </tr>\n",
              "  </thead>\n",
              "  <tbody>\n",
              "    <tr>\n",
              "      <th>0</th>\n",
              "      <td>31.123421</td>\n",
              "      <td>Full Sun</td>\n",
              "      <td>6.5</td>\n",
              "      <td>Well-drained Sandy  Soil</td>\n",
              "      <td>High</td>\n",
              "      <td>0.025</td>\n",
              "      <td>Raddish</td>\n",
              "    </tr>\n",
              "    <tr>\n",
              "      <th>1</th>\n",
              "      <td>31.023871</td>\n",
              "      <td>Full Sun</td>\n",
              "      <td>6.0</td>\n",
              "      <td>Well-drained Sandy  Soil</td>\n",
              "      <td>High</td>\n",
              "      <td>0.026</td>\n",
              "      <td>Raddish</td>\n",
              "    </tr>\n",
              "    <tr>\n",
              "      <th>2</th>\n",
              "      <td>29.075632</td>\n",
              "      <td>Partial Sun</td>\n",
              "      <td>7.0</td>\n",
              "      <td>Well-drained Carbonic Soil</td>\n",
              "      <td>Moderate</td>\n",
              "      <td>0.027</td>\n",
              "      <td>Raddish</td>\n",
              "    </tr>\n",
              "    <tr>\n",
              "      <th>3</th>\n",
              "      <td>31.076125</td>\n",
              "      <td>Full Sun</td>\n",
              "      <td>7.5</td>\n",
              "      <td>Well-drained Sandy  Soil</td>\n",
              "      <td>High</td>\n",
              "      <td>0.028</td>\n",
              "      <td>Raddish</td>\n",
              "    </tr>\n",
              "    <tr>\n",
              "      <th>4</th>\n",
              "      <td>31.165421</td>\n",
              "      <td>Full Sun</td>\n",
              "      <td>6.8</td>\n",
              "      <td>Well-drained Sandy  Soil</td>\n",
              "      <td>High</td>\n",
              "      <td>0.029</td>\n",
              "      <td>Raddish</td>\n",
              "    </tr>\n",
              "  </tbody>\n",
              "</table>\n",
              "</div>\n",
              "      <button class=\"colab-df-convert\" onclick=\"convertToInteractive('df-44d402a0-9e1a-439a-bb58-ca401a6751ed')\"\n",
              "              title=\"Convert this dataframe to an interactive table.\"\n",
              "              style=\"display:none;\">\n",
              "        \n",
              "  <svg xmlns=\"http://www.w3.org/2000/svg\" height=\"24px\"viewBox=\"0 0 24 24\"\n",
              "       width=\"24px\">\n",
              "    <path d=\"M0 0h24v24H0V0z\" fill=\"none\"/>\n",
              "    <path d=\"M18.56 5.44l.94 2.06.94-2.06 2.06-.94-2.06-.94-.94-2.06-.94 2.06-2.06.94zm-11 1L8.5 8.5l.94-2.06 2.06-.94-2.06-.94L8.5 2.5l-.94 2.06-2.06.94zm10 10l.94 2.06.94-2.06 2.06-.94-2.06-.94-.94-2.06-.94 2.06-2.06.94z\"/><path d=\"M17.41 7.96l-1.37-1.37c-.4-.4-.92-.59-1.43-.59-.52 0-1.04.2-1.43.59L10.3 9.45l-7.72 7.72c-.78.78-.78 2.05 0 2.83L4 21.41c.39.39.9.59 1.41.59.51 0 1.02-.2 1.41-.59l7.78-7.78 2.81-2.81c.8-.78.8-2.07 0-2.86zM5.41 20L4 18.59l7.72-7.72 1.47 1.35L5.41 20z\"/>\n",
              "  </svg>\n",
              "      </button>\n",
              "      \n",
              "  <style>\n",
              "    .colab-df-container {\n",
              "      display:flex;\n",
              "      flex-wrap:wrap;\n",
              "      gap: 12px;\n",
              "    }\n",
              "\n",
              "    .colab-df-convert {\n",
              "      background-color: #E8F0FE;\n",
              "      border: none;\n",
              "      border-radius: 50%;\n",
              "      cursor: pointer;\n",
              "      display: none;\n",
              "      fill: #1967D2;\n",
              "      height: 32px;\n",
              "      padding: 0 0 0 0;\n",
              "      width: 32px;\n",
              "    }\n",
              "\n",
              "    .colab-df-convert:hover {\n",
              "      background-color: #E2EBFA;\n",
              "      box-shadow: 0px 1px 2px rgba(60, 64, 67, 0.3), 0px 1px 3px 1px rgba(60, 64, 67, 0.15);\n",
              "      fill: #174EA6;\n",
              "    }\n",
              "\n",
              "    [theme=dark] .colab-df-convert {\n",
              "      background-color: #3B4455;\n",
              "      fill: #D2E3FC;\n",
              "    }\n",
              "\n",
              "    [theme=dark] .colab-df-convert:hover {\n",
              "      background-color: #434B5C;\n",
              "      box-shadow: 0px 1px 3px 1px rgba(0, 0, 0, 0.15);\n",
              "      filter: drop-shadow(0px 1px 2px rgba(0, 0, 0, 0.3));\n",
              "      fill: #FFFFFF;\n",
              "    }\n",
              "  </style>\n",
              "\n",
              "      <script>\n",
              "        const buttonEl =\n",
              "          document.querySelector('#df-44d402a0-9e1a-439a-bb58-ca401a6751ed button.colab-df-convert');\n",
              "        buttonEl.style.display =\n",
              "          google.colab.kernel.accessAllowed ? 'block' : 'none';\n",
              "\n",
              "        async function convertToInteractive(key) {\n",
              "          const element = document.querySelector('#df-44d402a0-9e1a-439a-bb58-ca401a6751ed');\n",
              "          const dataTable =\n",
              "            await google.colab.kernel.invokeFunction('convertToInteractive',\n",
              "                                                     [key], {});\n",
              "          if (!dataTable) return;\n",
              "\n",
              "          const docLinkHtml = 'Like what you see? Visit the ' +\n",
              "            '<a target=\"_blank\" href=https://colab.research.google.com/notebooks/data_table.ipynb>data table notebook</a>'\n",
              "            + ' to learn more about interactive tables.';\n",
              "          element.innerHTML = '';\n",
              "          dataTable['output_type'] = 'display_data';\n",
              "          await google.colab.output.renderOutput(dataTable, element);\n",
              "          const docLink = document.createElement('div');\n",
              "          docLink.innerHTML = docLinkHtml;\n",
              "          element.appendChild(docLink);\n",
              "        }\n",
              "      </script>\n",
              "    </div>\n",
              "  </div>\n",
              "  "
            ],
            "text/plain": [
              "   Temperature     Sunlight   PH  ... Water level Space (m2)     Label\n",
              "0    31.123421     Full Sun  6.5  ...        High       0.025  Raddish\n",
              "1    31.023871    Full Sun   6.0  ...        High       0.026  Raddish\n",
              "2    29.075632  Partial Sun  7.0  ...    Moderate       0.027  Raddish\n",
              "3    31.076125     Full Sun  7.5  ...        High       0.028  Raddish\n",
              "4    31.165421     Full Sun  6.8  ...        High       0.029  Raddish\n",
              "\n",
              "[5 rows x 7 columns]"
            ]
          },
          "metadata": {},
          "execution_count": 14
        }
      ]
    },
    {
      "cell_type": "code",
      "source": [
        "X = df.iloc[:,:].values\n",
        "Z = pd.DataFrame(x)\n",
        "\n",
        "print(X)\n",
        "print(Z)"
      ],
      "metadata": {
        "colab": {
          "base_uri": "https://localhost:8080/"
        },
        "id": "973u5qow-LxZ",
        "outputId": "0e1b81ac-9086-4d54-a6a7-ecfa1b797add"
      },
      "execution_count": 20,
      "outputs": [
        {
          "output_type": "stream",
          "name": "stdout",
          "text": [
            "[[31.1234212 'Full Sun' 6.5 ... 'High' 0.025 'Raddish']\n",
            " [31.0238712 'Full Sun ' 6.0 ... 'High' 0.026000000000000002 'Raddish']\n",
            " [29.0756321 'Partial Sun' 7.0 ... 'Moderate' 0.027000000000000003\n",
            "  'Raddish']\n",
            " ...\n",
            " [19.3781573 'Partial Sun' 8.0 ... 'High' 2.05 'Carrot']\n",
            " [20.3781573 'Partial Sun' 9.0 ... 'High' 3.05 'Carrot']\n",
            " [21.3781573 'Partial Sun' 10.0 ... 'High' 4.05 'Carrot']]\n",
            "           0  1    2                           3         4      5        6\n",
            "0    31.1234  0  6.5    Well-drained Sandy  Soil      High  0.025  Raddish\n",
            "1    31.0239  1    6    Well-drained Sandy  Soil      High  0.026  Raddish\n",
            "2    29.0756  2    7  Well-drained Carbonic Soil  Moderate  0.027  Raddish\n",
            "3    31.0761  0  7.5    Well-drained Sandy  Soil      High  0.028  Raddish\n",
            "4    31.1654  0  6.8    Well-drained Sandy  Soil      High  0.029  Raddish\n",
            "..       ... ..  ...                         ...       ...    ...      ...\n",
            "243  17.3782  2    6   Carbonic Loamy Sandy Soil      High   0.05   Carrot\n",
            "244  18.3782  2    7   Carbonic Loamy Sandy Soil      High   1.05   Carrot\n",
            "245  19.3782  2    8   Carbonic Loamy Sandy Soil      High   2.05   Carrot\n",
            "246  20.3782  2    9   Carbonic Loamy Sandy Soil      High   3.05   Carrot\n",
            "247  21.3782  2   10   Carbonic Loamy Sandy Soil      High   4.05   Carrot\n",
            "\n",
            "[248 rows x 7 columns]\n"
          ]
        }
      ]
    },
    {
      "cell_type": "code",
      "source": [
        "from sklearn.preprocessing import LabelEncoder, OneHotEncoder\n",
        "\n",
        "labelencoder_X = LabelEncoder()\n",
        "\n",
        "X[:,1] = labelencoder_x.fit_transform(X[:,1])\n",
        "\n",
        "Z = pd.DataFrame(X)\n",
        "\n",
        "print(Z)\n",
        "\n"
      ],
      "metadata": {
        "colab": {
          "base_uri": "https://localhost:8080/"
        },
        "id": "shksU7Gk_Ouh",
        "outputId": "b604132c-cd3a-4f5c-f943-b2e1535e720c"
      },
      "execution_count": 21,
      "outputs": [
        {
          "output_type": "stream",
          "name": "stdout",
          "text": [
            "           0  1    2                           3         4      5        6\n",
            "0    31.1234  0  6.5    Well-drained Sandy  Soil      High  0.025  Raddish\n",
            "1    31.0239  1    6    Well-drained Sandy  Soil      High  0.026  Raddish\n",
            "2    29.0756  2    7  Well-drained Carbonic Soil  Moderate  0.027  Raddish\n",
            "3    31.0761  0  7.5    Well-drained Sandy  Soil      High  0.028  Raddish\n",
            "4    31.1654  0  6.8    Well-drained Sandy  Soil      High  0.029  Raddish\n",
            "..       ... ..  ...                         ...       ...    ...      ...\n",
            "243  17.3782  2    6   Carbonic Loamy Sandy Soil      High   0.05   Carrot\n",
            "244  18.3782  2    7   Carbonic Loamy Sandy Soil      High   1.05   Carrot\n",
            "245  19.3782  2    8   Carbonic Loamy Sandy Soil      High   2.05   Carrot\n",
            "246  20.3782  2    9   Carbonic Loamy Sandy Soil      High   3.05   Carrot\n",
            "247  21.3782  2   10   Carbonic Loamy Sandy Soil      High   4.05   Carrot\n",
            "\n",
            "[248 rows x 7 columns]\n"
          ]
        }
      ]
    },
    {
      "cell_type": "code",
      "source": [
        "labelencoder_X = LabelEncoder()\n",
        "\n",
        "X[:,3] = labelencoder_X.fit_transform(X[:,3])\n",
        "\n",
        "Z = pd.DataFrame(X)\n",
        "\n",
        "\n",
        "X[:,4] = labelencoder_X.fit_transform(X[:,4])\n",
        "\n",
        "Z = pd.DataFrame(X)\n",
        "\n",
        "\n",
        "print(Z)"
      ],
      "metadata": {
        "colab": {
          "base_uri": "https://localhost:8080/"
        },
        "id": "gKglAq21AIcf",
        "outputId": "442efbdb-0807-460b-a641-6a5d35427eb3"
      },
      "execution_count": 23,
      "outputs": [
        {
          "output_type": "stream",
          "name": "stdout",
          "text": [
            "           0  1    2   3  4      5        6\n",
            "0    31.1234  0  6.5  30  0  0.025  Raddish\n",
            "1    31.0239  1    6  30  0  0.026  Raddish\n",
            "2    29.0756  2    7  27  2  0.027  Raddish\n",
            "3    31.0761  0  7.5  30  0  0.028  Raddish\n",
            "4    31.1654  0  6.8  30  0  0.029  Raddish\n",
            "..       ... ..  ...  .. ..    ...      ...\n",
            "243  17.3782  2    6   0  0   0.05   Carrot\n",
            "244  18.3782  2    7   0  0   1.05   Carrot\n",
            "245  19.3782  2    8   0  0   2.05   Carrot\n",
            "246  20.3782  2    9   0  0   3.05   Carrot\n",
            "247  21.3782  2   10   0  0   4.05   Carrot\n",
            "\n",
            "[248 rows x 7 columns]\n"
          ]
        }
      ]
    },
    {
      "cell_type": "code",
      "source": [
        "X1 = Z.iloc[:,0:6]\n",
        "\n",
        "Y = Z.iloc[:,-1]\n",
        "\n",
        "print(X1)\n",
        "print(Y)"
      ],
      "metadata": {
        "colab": {
          "base_uri": "https://localhost:8080/"
        },
        "id": "iSmsPJ0hBDxR",
        "outputId": "fa0b5ed4-6219-44ad-ca85-36fc9a047330"
      },
      "execution_count": 24,
      "outputs": [
        {
          "output_type": "stream",
          "name": "stdout",
          "text": [
            "           0  1    2   3  4      5\n",
            "0    31.1234  0  6.5  30  0  0.025\n",
            "1    31.0239  1    6  30  0  0.026\n",
            "2    29.0756  2    7  27  2  0.027\n",
            "3    31.0761  0  7.5  30  0  0.028\n",
            "4    31.1654  0  6.8  30  0  0.029\n",
            "..       ... ..  ...  .. ..    ...\n",
            "243  17.3782  2    6   0  0   0.05\n",
            "244  18.3782  2    7   0  0   1.05\n",
            "245  19.3782  2    8   0  0   2.05\n",
            "246  20.3782  2    9   0  0   3.05\n",
            "247  21.3782  2   10   0  0   4.05\n",
            "\n",
            "[248 rows x 6 columns]\n",
            "0      Raddish\n",
            "1      Raddish\n",
            "2      Raddish\n",
            "3      Raddish\n",
            "4      Raddish\n",
            "        ...   \n",
            "243     Carrot\n",
            "244     Carrot\n",
            "245     Carrot\n",
            "246     Carrot\n",
            "247     Carrot\n",
            "Name: 6, Length: 248, dtype: object\n"
          ]
        }
      ]
    },
    {
      "cell_type": "markdown",
      "source": [
        "**Create Train Test Model in Classification**"
      ],
      "metadata": {
        "id": "YkOtb0FmB0ew"
      }
    },
    {
      "cell_type": "code",
      "source": [
        "X1_train,X1_test,Y_train,Y_test = train_test_split(X1,Y, test_size = 0.5, random_state = 1)\n",
        "\n",
        "\n",
        "print(X1_test)\n",
        "print(X1_train)"
      ],
      "metadata": {
        "colab": {
          "base_uri": "https://localhost:8080/"
        },
        "id": "IWeAxcyTCEW3",
        "outputId": "78bebddf-8762-4650-ce8e-028f742ed6ad"
      },
      "execution_count": 36,
      "outputs": [
        {
          "output_type": "stream",
          "name": "stdout",
          "text": [
            "           0  1    2   3  4      5\n",
            "67   29.5883  2  4.2   9  1   0.41\n",
            "247  21.3782  2   10   0  0   4.05\n",
            "210  35.7103  2    8  21  2   2.09\n",
            "224  28.3103  0    8   2  0     17\n",
            "90   34.2772  0  6.7   7  0  0.045\n",
            "..       ... ..  ...  .. ..    ...\n",
            "12   26.1235  2    6  27  1   1.51\n",
            "164  28.2412  2  7.4   7  2     17\n",
            "227  31.3103  0   11   2  0     20\n",
            "225  29.3103  0    9   2  0     18\n",
            "226  30.3103  0   10   2  0     19\n",
            "\n",
            "[124 rows x 6 columns]\n",
            "           0  1    2   3  4       5\n",
            "193  30.1572  0    6  17  2       5\n",
            "242   34.278  0    9  11  0      24\n",
            "180  34.2772  0  9.5  12  0    2.54\n",
            "81   32.2652  2  6.2   3  2    1.82\n",
            "124  30.5372  2  6.8   1  2    1.81\n",
            "..       ... ..  ...  .. ..     ...\n",
            "137  32.2432  1   10  11  0    4.81\n",
            "72   27.2432  2  6.5  16  2    0.36\n",
            "140  33.0132  0  7.5  11  2      32\n",
            "235  30.2173  0  6.5  17  0     102\n",
            "37   29.3718  0    6  17  2  0.0425\n",
            "\n",
            "[124 rows x 6 columns]\n"
          ]
        }
      ]
    },
    {
      "cell_type": "code",
      "source": [
        "from sklearn.naive_bayes import GaussianNB\n",
        "\n",
        "gnb = GaussianNB()\n",
        "\n",
        "gnb.fit(X1_train, Y_train)\n",
        "\n",
        "Predict = gnb.predict(X1_test)\n",
        "\n",
        "print(Predict)"
      ],
      "metadata": {
        "colab": {
          "base_uri": "https://localhost:8080/"
        },
        "id": "fK7cWYpQN86L",
        "outputId": "b843d9a6-b23f-4e6b-dc2f-a22500930d85"
      },
      "execution_count": 37,
      "outputs": [
        {
          "output_type": "stream",
          "name": "stdout",
          "text": [
            "['Winged  Beans' 'Carrot' 'Kohila' 'Ridged Gouard' 'Snake Gouard' 'Lime'\n",
            " 'Ridged Gouard' 'Brinjals' 'Okra' 'Raddish' 'Kankun' 'Raddish'\n",
            " 'Snake Gouard' 'Ginger' 'Cinnamon' 'Papaya' 'Thibbatu' 'nol khol'\n",
            " 'Ridged Gouard' 'Chilli' 'Ridged Gouard' 'Ridged Gouard' 'nol khol'\n",
            " 'Thibbatu' 'nol khol' 'nol khol' 'Carrot' 'Brinjals' 'Ginger'\n",
            " 'Thumba Karawila' 'Ela batu' 'Squash' 'Winged  Beans' 'Ela batu'\n",
            " 'Spinach' 'Guava' 'Snake Gouard' 'Ridged Gouard' 'Beans' 'Pani Dodam'\n",
            " 'nol khol' 'Beans' 'Thibbatu' 'Star Fruit' 'Ridged Gouard' 'Snake Gouard'\n",
            " 'Cassava' 'Ridged Gouard' 'Ridged Gouard' 'Raddish' 'Star Fruit' 'Papaya'\n",
            " 'Okra' 'Mangoostenes' 'Avacado' 'Ginger' 'Beans' 'Ridged Gouard'\n",
            " 'Ridged Gouard' 'Rambutan' 'Rambutan' 'Innala' 'Ridged Gouard'\n",
            " 'Pani Dodam' 'Squash' 'Thibbatu' 'Ridged Gouard' 'Turmeric'\n",
            " 'Thumba Karawila' 'Innala' 'Snake Gouard' 'Star Fruit' 'Rambutan'\n",
            " 'Ginger' 'Cinnamon' 'Innala' 'Karapincha' 'Avacado' 'Carrot'\n",
            " 'Snake Gouard' 'Bitter Guard' 'Papaya' 'Capsicum' 'Ridged Gouard'\n",
            " 'Thumba Karawila' 'Cassava' 'Innala' 'Mukunuwenna' 'Ridged Gouard'\n",
            " 'Sarana' 'Cinnamon' 'Turmeric' 'Star Fruit' 'Ridged Gouard'\n",
            " 'Ridged Gouard' 'Raddish' 'Thibbatu' 'Thibbatu' 'Squash' 'Sarana'\n",
            " 'Winged  Beans' 'Ridged Gouard' 'Lime' 'Avacado' 'nol khol'\n",
            " 'Ridged Gouard' 'nol khol' 'Snake Gouard' 'Star Fruit' 'nol khol' 'Beans'\n",
            " 'Star Fruit' 'Snake Gouard' 'Ridged Gouard' 'Thibbatu' 'Innala' 'Kohila'\n",
            " 'Beans' 'Star Fruit' 'Ridged Gouard' 'Karapincha' 'Ridged Gouard'\n",
            " 'Ridged Gouard' 'Ridged Gouard']\n"
          ]
        }
      ]
    },
    {
      "cell_type": "code",
      "source": [
        "print(Y_test)\n",
        "print(X1_train)\n"
      ],
      "metadata": {
        "colab": {
          "base_uri": "https://localhost:8080/"
        },
        "id": "A4QehzfuSJaL",
        "outputId": "dde854ac-0a5f-47f5-8414-dd4821d1a0ce"
      },
      "execution_count": 42,
      "outputs": [
        {
          "output_type": "stream",
          "name": "stdout",
          "text": [
            "67     Winged  Beans\n",
            "247           Carrot\n",
            "210           Kohila\n",
            "224           Orange\n",
            "90          Gotukola\n",
            "           ...      \n",
            "12      Bitter Guard\n",
            "164       Karapincha\n",
            "227           Orange\n",
            "225           Orange\n",
            "226           Orange\n",
            "Name: 6, Length: 124, dtype: object\n",
            "           0  1    2   3  4       5\n",
            "193  30.1572  0    6  17  2       5\n",
            "242   34.278  0    9  11  0      24\n",
            "180  34.2772  0  9.5  12  0    2.54\n",
            "81   32.2652  2  6.2   3  2    1.82\n",
            "124  30.5372  2  6.8   1  2    1.81\n",
            "..       ... ..  ...  .. ..     ...\n",
            "137  32.2432  1   10  11  0    4.81\n",
            "72   27.2432  2  6.5  16  2    0.36\n",
            "140  33.0132  0  7.5  11  2      32\n",
            "235  30.2173  0  6.5  17  0     102\n",
            "37   29.3718  0    6  17  2  0.0425\n",
            "\n",
            "[124 rows x 6 columns]\n"
          ]
        }
      ]
    },
    {
      "cell_type": "code",
      "source": [
        "print(Predict)"
      ],
      "metadata": {
        "colab": {
          "base_uri": "https://localhost:8080/"
        },
        "id": "tmR2EsrQRPdy",
        "outputId": "cb59dca8-c7a0-4717-e58d-f0c662270a88"
      },
      "execution_count": 30,
      "outputs": [
        {
          "output_type": "stream",
          "name": "stdout",
          "text": [
            "['Winged  Beans' 'Carrot' 'Kohila' 'Ridged Gouard' 'Snake Gouard' 'Lime'\n",
            " 'Ridged Gouard' 'Brinjals' 'Okra' 'Raddish' 'Kankun' 'Raddish'\n",
            " 'Snake Gouard' 'Ginger' 'Cinnamon' 'Papaya' 'Thibbatu' 'nol khol'\n",
            " 'Ridged Gouard' 'Chilli' 'Ridged Gouard' 'Ridged Gouard' 'nol khol'\n",
            " 'Thibbatu' 'nol khol' 'nol khol' 'Carrot' 'Brinjals' 'Ginger'\n",
            " 'Thumba Karawila' 'Ela batu' 'Squash' 'Winged  Beans' 'Ela batu'\n",
            " 'Spinach' 'Guava' 'Snake Gouard' 'Ridged Gouard' 'Beans' 'Pani Dodam'\n",
            " 'nol khol' 'Beans' 'Thibbatu' 'Star Fruit' 'Ridged Gouard' 'Snake Gouard'\n",
            " 'Cassava' 'Ridged Gouard' 'Ridged Gouard' 'Raddish' 'Star Fruit' 'Papaya'\n",
            " 'Okra' 'Mangoostenes' 'Avacado' 'Ginger' 'Beans' 'Ridged Gouard'\n",
            " 'Ridged Gouard' 'Rambutan' 'Rambutan' 'Innala' 'Ridged Gouard'\n",
            " 'Pani Dodam' 'Squash' 'Thibbatu' 'Ridged Gouard' 'Turmeric'\n",
            " 'Thumba Karawila' 'Innala' 'Snake Gouard' 'Star Fruit' 'Rambutan'\n",
            " 'Ginger' 'Cinnamon' 'Innala' 'Karapincha' 'Avacado' 'Carrot'\n",
            " 'Snake Gouard' 'Bitter Guard' 'Papaya' 'Capsicum' 'Ridged Gouard'\n",
            " 'Thumba Karawila' 'Cassava' 'Innala' 'Mukunuwenna' 'Ridged Gouard'\n",
            " 'Sarana' 'Cinnamon' 'Turmeric' 'Star Fruit' 'Ridged Gouard'\n",
            " 'Ridged Gouard' 'Raddish' 'Thibbatu' 'Thibbatu' 'Squash' 'Sarana'\n",
            " 'Winged  Beans' 'Ridged Gouard' 'Lime' 'Avacado' 'nol khol'\n",
            " 'Ridged Gouard' 'nol khol' 'Snake Gouard' 'Star Fruit' 'nol khol' 'Beans'\n",
            " 'Star Fruit' 'Snake Gouard' 'Ridged Gouard' 'Thibbatu' 'Innala' 'Kohila'\n",
            " 'Beans' 'Star Fruit' 'Ridged Gouard' 'Karapincha' 'Ridged Gouard'\n",
            " 'Ridged Gouard' 'Ridged Gouard']\n"
          ]
        }
      ]
    }
  ]
}